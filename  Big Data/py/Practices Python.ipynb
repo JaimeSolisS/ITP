{
 "cells": [
  {
   "cell_type": "markdown",
   "metadata": {},
   "source": [
    "## Write shell script for generating fibonacci sequence"
   ]
  },
  {
   "cell_type": "code",
   "execution_count": 9,
   "metadata": {
    "ExecuteTime": {
     "end_time": "2021-03-18T00:18:15.829233Z",
     "start_time": "2021-03-18T00:18:13.054072Z"
    }
   },
   "outputs": [
    {
     "name": "stdout",
     "output_type": "stream",
     "text": [
      "How many elements: 20\n",
      "Sequence:  0 , 1,1,2,3,5,8,13,21,34,55,89,144,233,377,610,987,1597,2584,4181,6765,10946,"
     ]
    }
   ],
   "source": [
    "# Using loops while, for, until and if/else conditions:\n",
    "num = int(input(\"How many elements: \"))\n",
    "x=0\n",
    "y=1\n",
    "if num < 1 :\n",
    "    print (\"Choose a valid number\")\n",
    "elif num == 1:\n",
    "    print(x)\n",
    "elif num == 2: \n",
    "    print(x,\",\", y)\n",
    "else: \n",
    "    print (\"Sequence: \", x,\",\",y, end=\",\" )\n",
    "    for i in range (num):\n",
    "        fib = x + y\n",
    "        print (fib, end=\",\")\n",
    "        x = y\n",
    "        y = fib"
   ]
  },
  {
   "cell_type": "markdown",
   "metadata": {},
   "source": [
    "## Write shell script for generating prime numbers in a range"
   ]
  },
  {
   "cell_type": "code",
   "execution_count": 10,
   "metadata": {
    "ExecuteTime": {
     "end_time": "2021-03-18T00:18:24.329572Z",
     "start_time": "2021-03-18T00:18:20.394872Z"
    }
   },
   "outputs": [
    {
     "name": "stdout",
     "output_type": "stream",
     "text": [
      "lower number: 10\n",
      "higher number: 50\n",
      "11,13,17,19,23,29,31,37,41,43,47,"
     ]
    }
   ],
   "source": [
    "# Using loops while, for, until and if/else conditions:\n",
    "low = int(input(\"lower number: \"))\n",
    "high = int(input(\"higher number: \"))\n",
    "for num in range(low, high + 1):\n",
    "    prime = True\n",
    "    for i in range(2, num):\n",
    "        if (num % i) == 0:\n",
    "            prime = False\n",
    "    if prime:\n",
    "        print(num, end=\",\")"
   ]
  },
  {
   "cell_type": "markdown",
   "metadata": {},
   "source": [
    "## Write shell script for generating pascal triangle"
   ]
  },
  {
   "cell_type": "code",
   "execution_count": 4,
   "metadata": {
    "ExecuteTime": {
     "end_time": "2021-03-17T23:42:43.757335Z",
     "start_time": "2021-03-17T23:42:42.171423Z"
    }
   },
   "outputs": [
    {
     "name": "stdout",
     "output_type": "stream",
     "text": [
      "Levels: 5\n",
      "      1\n",
      "     1 1\n",
      "    1 2 1\n",
      "   1 3 3 1\n",
      "  1 4 6 4 1\n"
     ]
    }
   ],
   "source": [
    "#Using loops while, for, until and if/else conditions:\n",
    "  \n",
    "levels = int(input(\"Levels: \"))\n",
    "for i in range(1, levels+1): \n",
    "    for j in range(0, levels-i+1): \n",
    "        print(\" \", end=\"\")  \n",
    "    coef = 1\n",
    "    for j in range(1, i+1): \n",
    "        print(\" \", coef, sep=\"\", end=\"\") \n",
    "        coef = coef * (i - j) // j \n",
    "    print()  "
   ]
  },
  {
   "cell_type": "markdown",
   "metadata": {},
   "source": [
    "## Write shell script for string palindrome"
   ]
  },
  {
   "cell_type": "code",
   "execution_count": 5,
   "metadata": {
    "ExecuteTime": {
     "end_time": "2021-03-17T23:42:49.638525Z",
     "start_time": "2021-03-17T23:42:47.485882Z"
    }
   },
   "outputs": [
    {
     "name": "stdout",
     "output_type": "stream",
     "text": [
      "Write a string: abba\n",
      "Is a palindrome\n"
     ]
    }
   ],
   "source": [
    "#Using loops while, for, until and if/else conditions:\n",
    "\n",
    "string = input(\"Write a string: \")\n",
    "string2 = string[::-1]\n",
    "\n",
    "if string == string2:\n",
    "    print(\"Is a palindrome\")\n",
    "else:\n",
    "    print(\"It is NOT a palindrome\")\n",
    "\n"
   ]
  },
  {
   "cell_type": "markdown",
   "metadata": {},
   "source": [
    "## Using loops while, for, until and if/else conditions:"
   ]
  },
  {
   "cell_type": "code",
   "execution_count": 6,
   "metadata": {
    "ExecuteTime": {
     "end_time": "2021-03-17T23:43:00.415817Z",
     "start_time": "2021-03-17T23:42:54.361461Z"
    }
   },
   "outputs": [
    {
     "name": "stdout",
     "output_type": "stream",
     "text": [
      "lower number: 100\n",
      "higher number: 500\n",
      "Armstong numbers: \n",
      "153\n",
      "370\n",
      "371\n",
      "407\n"
     ]
    }
   ],
   "source": [
    "#Write shell script for finding armstrong numbers\n",
    "low = int(input(\"lower number: \"))\n",
    "high = int(input(\"higher number: \"))\n",
    "print(\"Armstong numbers: \")\n",
    "\n",
    "for num in range(low, high):\n",
    "    sum=0\n",
    "    for dig in str(num):\n",
    "        digit = int(dig)\n",
    "        sum += digit * digit *digit\n",
    "    if sum == num:\n",
    "        print(num)\n"
   ]
  },
  {
   "cell_type": "markdown",
   "metadata": {},
   "source": [
    "## Find out a way where you can use substring like feature in bash scripting and use that.\n",
    "\n",
    "Example for this is print all the files with same extension O/P should look like  \n",
    ".txt - one, two, three  \n",
    "pdf - four, five. six  "
   ]
  },
  {
   "cell_type": "code",
   "execution_count": 11,
   "metadata": {
    "ExecuteTime": {
     "end_time": "2021-03-18T00:18:52.900174Z",
     "start_time": "2021-03-18T00:18:52.885225Z"
    }
   },
   "outputs": [
    {
     "name": "stdout",
     "output_type": "stream",
     "text": [
      ".txt  - file2,file3,file1\n",
      ".py  - p5,p1,p4,p8,p3,p7,p6,p2\n",
      "  - .ipynb_checkpoints\n",
      ".ipynb  - Practices Python\n"
     ]
    }
   ],
   "source": [
    "import os\n",
    "from os.path import splitext\n",
    "filelist = os.listdir()\n",
    "#print(filelist)\n",
    "dictionary = {}  \n",
    "for file in filelist:\n",
    "    file_name, extension = splitext(file)\n",
    "    key=extension\n",
    "    values = dictionary.get(key,[])\n",
    "    values.append(file_name)  \n",
    "    dictionary[key] = values\n",
    "#print(dictionary)\n",
    "for ext, name in dictionary.items():\n",
    "    print(ext,\" - \",end=\"\")\n",
    "    print(*name, sep=\",\")"
   ]
  },
  {
   "cell_type": "markdown",
   "metadata": {},
   "source": [
    "## Find a file which has unseen line feeds or space feeds or tab feeds hidden in a line or in a word. Write a script where you eliminate them and print the original string."
   ]
  },
  {
   "cell_type": "code",
   "execution_count": 12,
   "metadata": {
    "ExecuteTime": {
     "end_time": "2021-03-18T00:19:37.766223Z",
     "start_time": "2021-03-18T00:19:37.730356Z"
    }
   },
   "outputs": [
    {
     "name": "stdout",
     "output_type": "stream",
     "text": [
      "Hello!    Welcome    to   demofile.txt\n",
      "\n",
      "\n",
      "This            file        is  for     testing purposes.\n",
      "\n",
      "\n",
      "\n",
      "\n",
      "\n",
      "\n",
      "Good Luck!\n",
      "---\n",
      "Hello! Welcome to demofile.txt This file is for testing purposes. Good Luck!\n"
     ]
    }
   ],
   "source": [
    "f = open(\"file3.txt\", \"r\")\n",
    "print(f.read())\n",
    "f.close()\n",
    "print(\"---\")\n",
    "f = open(\"file3.txt\", \"r\")\n",
    "lines = []\n",
    "for x in f:\n",
    "    if len(x.strip()) == 0 :\n",
    "        continue\n",
    "    string = \" \".join(x.split()) #The split() method splits a string into a list. The join() method takes all items in an iterable and joins them into one string.\n",
    "    #print(string)\n",
    "    lines.append(string)\n",
    "print(\" \".join(lines))\n",
    "f.close()"
   ]
  },
  {
   "cell_type": "code",
   "execution_count": null,
   "metadata": {},
   "outputs": [],
   "source": []
  }
 ],
 "metadata": {
  "kernelspec": {
   "display_name": "Python 3",
   "language": "python",
   "name": "python3"
  },
  "language_info": {
   "codemirror_mode": {
    "name": "ipython",
    "version": 3
   },
   "file_extension": ".py",
   "mimetype": "text/x-python",
   "name": "python",
   "nbconvert_exporter": "python",
   "pygments_lexer": "ipython3",
   "version": "3.7.4"
  },
  "nbTranslate": {
   "displayLangs": [
    "en",
    "es"
   ],
   "hotkey": "alt-t",
   "langInMainMenu": true,
   "sourceLang": "es",
   "targetLang": "en",
   "useGoogleTranslate": true
  },
  "toc": {
   "base_numbering": 1,
   "nav_menu": {},
   "number_sections": true,
   "sideBar": true,
   "skip_h1_title": false,
   "title_cell": "Table of Contents",
   "title_sidebar": "Contents",
   "toc_cell": false,
   "toc_position": {
    "height": "calc(100% - 180px)",
    "left": "10px",
    "top": "150px",
    "width": "165px"
   },
   "toc_section_display": true,
   "toc_window_display": true
  }
 },
 "nbformat": 4,
 "nbformat_minor": 4
}
