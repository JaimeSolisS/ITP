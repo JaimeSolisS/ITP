{
 "cells": [
  {
   "cell_type": "markdown",
   "metadata": {},
   "source": [
    "# Python Collections\n",
    "\n",
    "Create a Data object with id, name , key, and status   \n",
    "Create a Class that generates data with method generateData(int amout) it will return the amount of data objects \n",
    "\n",
    "id consecutive long value.   \n",
    "name a regular string name format   \n",
    "key a String value with format (id-first 3 letters of name)  \n",
    "status a String value format (NEW-TIMESTAMP format hh:mm:sss)  \n",
    "\n",
    "create a List with \n",
    "\n",
    "take the time to fill a :  \n",
    "list 1000\n",
    "list 10000\n",
    "list 100000\n",
    "\n",
    "Create the search and remotion method"
   ]
  },
  {
   "cell_type": "markdown",
   "metadata": {},
   "source": [
    "# Data object"
   ]
  },
  {
   "cell_type": "code",
   "execution_count": 66,
   "metadata": {
    "ExecuteTime": {
     "end_time": "2021-03-21T23:58:19.323932Z",
     "start_time": "2021-03-21T23:58:19.312390Z"
    }
   },
   "outputs": [],
   "source": [
    "import datetime\n",
    "\n",
    "class Data:\n",
    "\n",
    "    def __init__(self, id, name):\n",
    "        self.id = id\n",
    "        self.name = name\n",
    "        self.key = str(id) + name[:3]\n",
    "        self.status = datetime.datetime.now().strftime(\"%H:%M:%S\") \n",
    "        \n",
    "    def __str__(self):  \n",
    "        return \"| id: %i | Username: %s | key: %s | status: %s| \" % (self.id, self.name, self.key, self.status)"
   ]
  },
  {
   "cell_type": "markdown",
   "metadata": {},
   "source": [
    "# DataGenerator"
   ]
  },
  {
   "cell_type": "code",
   "execution_count": 67,
   "metadata": {
    "ExecuteTime": {
     "end_time": "2021-03-21T23:58:20.681756Z",
     "start_time": "2021-03-21T23:58:20.677678Z"
    }
   },
   "outputs": [],
   "source": [
    "class DataGenerator():\n",
    "    \n",
    "    def generateData(amount, myList): \n",
    "        \n",
    "        for i in range(amount):\n",
    "            id = i\n",
    "            name = \"User\"+str(i)\n",
    "            person = Data(id, name)\n",
    "            myList.append(person)\n",
    "        return myList"
   ]
  },
  {
   "cell_type": "code",
   "execution_count": null,
   "metadata": {
    "ExecuteTime": {
     "end_time": "2021-03-19T19:30:44.892044Z",
     "start_time": "2021-03-19T19:30:44.886649Z"
    }
   },
   "outputs": [],
   "source": [
    "list10 = DataGenerator.generateData(10,[])\n",
    "\n",
    "print(list10)\n",
    "print(\"------\")\n",
    "for i in range(len(list10)):\n",
    "    print(list10[i])"
   ]
  },
  {
   "cell_type": "markdown",
   "metadata": {},
   "source": [
    "# Lists"
   ]
  },
  {
   "cell_type": "markdown",
   "metadata": {},
   "source": [
    "## Create Lists"
   ]
  },
  {
   "cell_type": "raw",
   "metadata": {
    "ExecuteTime": {
     "end_time": "2021-03-19T05:38:53.954934Z",
     "start_time": "2021-03-19T05:38:53.171489Z"
    },
    "hide_input": false
   },
   "source": [
    "import time\n",
    "\n",
    "start = time.time()\n",
    "list1000 = DataGenerator.generateData(1000,[])\n",
    "end = time.time()\n",
    "\n",
    "print(\"Duration: \", end-start, \"seconds\")\n",
    "\n",
    "start = time.time()\n",
    "list10000 = DataGenerator.generateData(10000,[])\n",
    "end = time.time()\n",
    "\n",
    "print(\"Duration: \", end-start, \"seconds\")\n",
    "\n",
    "start = time.time()\n",
    "list100000 = DataGenerator.generateData(100000,[])\n",
    "end = time.time()\n",
    "\n",
    "print(\"Duration: \", end-start, \"seconds\")"
   ]
  },
  {
   "cell_type": "code",
   "execution_count": 94,
   "metadata": {
    "ExecuteTime": {
     "end_time": "2021-03-22T00:13:45.918205Z",
     "start_time": "2021-03-22T00:13:45.106252Z"
    }
   },
   "outputs": [
    {
     "name": "stdout",
     "output_type": "stream",
     "text": [
      "Create List Duration with  1000  items: 0.006546974182128906 seconds\n",
      "Create List Duration with  10000  items: 0.05622673034667969 seconds\n",
      "Create List Duration with  100000  items: 0.7295310497283936 seconds\n"
     ]
    }
   ],
   "source": [
    "import time\n",
    "\n",
    "def createList(amount):\n",
    "    start = time.time()\n",
    "    newList = DataGenerator.generateData(amount,[])\n",
    "    end = time.time()\n",
    "    print(\"Create List Duration with \", len(newList), \" items:\", end-start, \"seconds\")\n",
    "    return newList    \n",
    "\n",
    "list1k=createList(1000)\n",
    "list10k=createList(10000)\n",
    "list100k=createList(100000)"
   ]
  },
  {
   "cell_type": "markdown",
   "metadata": {},
   "source": [
    "## Create Random List"
   ]
  },
  {
   "cell_type": "code",
   "execution_count": 96,
   "metadata": {
    "ExecuteTime": {
     "end_time": "2021-03-22T00:14:44.523608Z",
     "start_time": "2021-03-22T00:14:44.517411Z"
    }
   },
   "outputs": [
    {
     "name": "stdout",
     "output_type": "stream",
     "text": [
      "Random elements from list with  1000  elements\n",
      "Random elements from list with  10000  elements\n",
      "Random elements from list with  100000  elements\n"
     ]
    }
   ],
   "source": [
    "import random \n",
    "\n",
    "def createRandomList(amount, originalList):\n",
    "    randomList=[]\n",
    "    print (\"Random elements from list with \", len(originalList), \" elements\" )\n",
    "    for i in range(amount):\n",
    "        randomList.append(originalList[random.randint(0, len(originalList)-1)])\n",
    "        #print(randomList[i])\n",
    "    return randomList\n",
    "        \n",
    "random1k=createRandomList(10, list1k)\n",
    "random10k=createRandomList(10, list10k)\n",
    "random100k=createRandomList(10, list100k)\n",
    "    "
   ]
  },
  {
   "cell_type": "raw",
   "metadata": {
    "ExecuteTime": {
     "end_time": "2021-03-19T05:39:23.176080Z",
     "start_time": "2021-03-19T05:39:23.171117Z"
    }
   },
   "source": [
    "import random\n",
    "\n",
    "randomList1000=[]\n",
    "for i in range(10):\n",
    "    randomList1000.append(list1000[random.randint(0,len(list1000)-1)])\n",
    "    \n",
    "for i in range(10):\n",
    "    print(randomList1000[i])"
   ]
  },
  {
   "cell_type": "markdown",
   "metadata": {},
   "source": [
    "## Search Method"
   ]
  },
  {
   "cell_type": "code",
   "execution_count": 99,
   "metadata": {
    "ExecuteTime": {
     "end_time": "2021-03-22T00:15:37.571774Z",
     "start_time": "2021-03-22T00:15:37.542307Z"
    }
   },
   "outputs": [
    {
     "name": "stdout",
     "output_type": "stream",
     "text": [
      "--Search Item in List duration with  1000  items: 0.0001087188720703125 seconds\n",
      "--Search Item in List duration with  10000  items: 0.0011861324310302734 seconds\n",
      "--Search Item in List duration with  100000  items: 0.02208423614501953 seconds\n"
     ]
    }
   ],
   "source": [
    "def searchInList(original, random):\n",
    "    start = time.time()\n",
    "    for item in random:\n",
    "        if item in original:\n",
    "            #print(item, \"found\")\n",
    "            pass\n",
    "        else: \n",
    "            print(item.name, \" not found\")    \n",
    "    end = time.time()\n",
    "    print(\"--Search Item in List duration with \", len(original), \" items:\", end-start, \"seconds\")\n",
    "        \n",
    "searchInList(list1k, random1k)\n",
    "searchInList(list10k, random10k)\n",
    "searchInList(list100k, random100k)"
   ]
  },
  {
   "cell_type": "raw",
   "metadata": {
    "ExecuteTime": {
     "end_time": "2021-03-19T18:55:16.067963Z",
     "start_time": "2021-03-19T18:55:16.055754Z"
    }
   },
   "source": [
    "start = time.time()\n",
    "for i in range(10):\n",
    "    item = randomList1000[i]\n",
    "    if item in list1000:\n",
    "        print(item)\n",
    "    else:\n",
    "        print(randomList1000[i].name, \" not found\")\n",
    "stop = time.time()"
   ]
  },
  {
   "cell_type": "markdown",
   "metadata": {},
   "source": [
    "## Update "
   ]
  },
  {
   "cell_type": "code",
   "execution_count": 100,
   "metadata": {
    "ExecuteTime": {
     "end_time": "2021-03-22T00:15:48.589164Z",
     "start_time": "2021-03-22T00:15:48.536852Z"
    }
   },
   "outputs": [
    {
     "name": "stdout",
     "output_type": "stream",
     "text": [
      "--Update Item in List duration with  1000  items: 0.00029087066650390625 seconds\n",
      "--Update Item in List duration with  10000  items: 0.002206087112426758 seconds\n",
      "--Update Item in List duration with  100000  items: 0.04372572898864746 seconds\n"
     ]
    }
   ],
   "source": [
    "def modifyInList(original, random):\n",
    "    start = time.time()\n",
    "    for item in random:\n",
    "        if item in original:\n",
    "            index = original.index(item)\n",
    "            original[index].status = datetime.datetime.now().strftime(\"%H:%M:%S\") \n",
    "        else: \n",
    "            print(item.name, \" not found\")    \n",
    "    end = time.time()\n",
    "    print(\"--Update Item in List duration with \", len(original), \" items:\", end-start, \"seconds\")\n",
    "        \n",
    "modifyInList(list1k, random1k)\n",
    "modifyInList(list10k, random10k)\n",
    "modifyInList(list100k, random100k)"
   ]
  },
  {
   "cell_type": "markdown",
   "metadata": {},
   "source": [
    "## Remove method"
   ]
  },
  {
   "cell_type": "code",
   "execution_count": 101,
   "metadata": {
    "ExecuteTime": {
     "end_time": "2021-03-22T00:16:02.045925Z",
     "start_time": "2021-03-22T00:16:01.996463Z"
    }
   },
   "outputs": [
    {
     "name": "stdout",
     "output_type": "stream",
     "text": [
      "--Remove Item in List duration with  1000  items: 0.0001819133758544922 seconds\n",
      "--Remove Item in List duration with  10000  items: 0.002131938934326172 seconds\n",
      "--Remove Item in List duration with  100000  items: 0.04067206382751465 seconds\n"
     ]
    }
   ],
   "source": [
    "def removeInList(original, random):\n",
    "    size= len(original)\n",
    "    start = time.time()\n",
    "    for item in random:\n",
    "        if item in original:\n",
    "            original.remove(item)\n",
    "            #print(item.name,  \" removed\")\n",
    "        else: \n",
    "            print(item.name, \" doesn't exist\") \n",
    "    end = time.time()\n",
    "    print(\"--Remove Item in List duration with \", size, \" items:\", end-start, \"seconds\")\n",
    "        \n",
    "removeInList(list1k, random1k)\n",
    "removeInList(list10k, random10k)\n",
    "removeInList(list100k, random100k)"
   ]
  },
  {
   "cell_type": "raw",
   "metadata": {
    "ExecuteTime": {
     "end_time": "2021-03-19T05:39:31.276816Z",
     "start_time": "2021-03-19T05:39:31.271326Z"
    }
   },
   "source": [
    "start = time.time()\n",
    "for i in range(10):\n",
    "    item = randomList1000[i]\n",
    "    if item in list1000:\n",
    "        list1000.remove(item)\n",
    "stop = time.time()"
   ]
  },
  {
   "cell_type": "markdown",
   "metadata": {},
   "source": [
    "# Tuples\n",
    "## Create"
   ]
  },
  {
   "cell_type": "code",
   "execution_count": 102,
   "metadata": {
    "ExecuteTime": {
     "end_time": "2021-03-22T00:16:37.138420Z",
     "start_time": "2021-03-22T00:16:36.124169Z"
    }
   },
   "outputs": [
    {
     "name": "stdout",
     "output_type": "stream",
     "text": [
      "Create Tuple Duration with  1000  items: 0.00817728042602539 seconds\n",
      "Create Tuple Duration with  10000  items: 0.06582880020141602 seconds\n",
      "Create Tuple Duration with  100000  items: 0.9075069427490234 seconds\n"
     ]
    }
   ],
   "source": [
    "def createTuple(amount):\n",
    "    start = time.time()\n",
    "    newList = DataGenerator.generateData(amount,[])\n",
    "    newTuple=tuple(newList)\n",
    "    end = time.time()\n",
    "    print(\"Create Tuple Duration with \", len(newList), \" items:\", end-start, \"seconds\")\n",
    "    return newTuple    \n",
    "\n",
    "tuple1k=createTuple(1000)\n",
    "tuple10k=createTuple(10000)\n",
    "tuple100k=createTuple(100000)"
   ]
  },
  {
   "cell_type": "markdown",
   "metadata": {},
   "source": [
    "## Random Tuple "
   ]
  },
  {
   "cell_type": "code",
   "execution_count": 103,
   "metadata": {
    "ExecuteTime": {
     "end_time": "2021-03-22T00:16:49.311924Z",
     "start_time": "2021-03-22T00:16:49.305722Z"
    }
   },
   "outputs": [
    {
     "name": "stdout",
     "output_type": "stream",
     "text": [
      "Random elements from Tuple with  1000  elements\n",
      "Random elements from Tuple with  10000  elements\n",
      "Random elements from Tuple with  100000  elements\n"
     ]
    }
   ],
   "source": [
    "import random \n",
    "\n",
    "def createRandomTuple(amount, original):\n",
    "    randomList=[]\n",
    "    print (\"Random elements from Tuple with \", len(original), \" elements\" )\n",
    "    for i in range(amount):\n",
    "        randomList.append(original[random.randint(0, len(original)-1)])\n",
    "        #print(randomList[i])\n",
    "    return randomList\n",
    "        \n",
    "random1k=createRandomTuple(10, tuple1k)\n",
    "random10k=createRandomTuple(10, tuple10k)\n",
    "random100k=createRandomTuple(10, tuple100k)\n",
    "    "
   ]
  },
  {
   "cell_type": "markdown",
   "metadata": {
    "ExecuteTime": {
     "end_time": "2021-03-21T00:02:15.925634Z",
     "start_time": "2021-03-21T00:02:15.920248Z"
    }
   },
   "source": [
    "## Search in Tuple"
   ]
  },
  {
   "cell_type": "code",
   "execution_count": 104,
   "metadata": {
    "ExecuteTime": {
     "end_time": "2021-03-22T00:16:58.205191Z",
     "start_time": "2021-03-22T00:16:58.184091Z"
    },
    "hide_input": false
   },
   "outputs": [
    {
     "name": "stdout",
     "output_type": "stream",
     "text": [
      "-- Tuple Search Item duration with  1000  items: 0.00014066696166992188 seconds\n",
      "-- Tuple Search Item duration with  10000  items: 0.0012447834014892578 seconds\n",
      "-- Tuple Search Item duration with  100000  items: 0.013834953308105469 seconds\n"
     ]
    }
   ],
   "source": [
    "def searchInTuple(original, random):\n",
    "    start = time.time()\n",
    "    for item in random: \n",
    "        if item in original:\n",
    "             #print(item, \"found\")\n",
    "            pass\n",
    "        else: \n",
    "            print(item.name, \" not found\")    \n",
    "    end = time.time()\n",
    "    print(\"-- Tuple Search Item duration with \", len(original), \" items:\", end-start, \"seconds\")\n",
    "searchInTuple(tuple1k,random1k)\n",
    "searchInTuple(tuple10k, random10k)\n",
    "searchInTuple(tuple100k, random100k)"
   ]
  },
  {
   "cell_type": "markdown",
   "metadata": {
    "ExecuteTime": {
     "end_time": "2021-03-21T00:34:03.907919Z",
     "start_time": "2021-03-21T00:34:03.903270Z"
    }
   },
   "source": [
    "## Modify Tuple"
   ]
  },
  {
   "cell_type": "code",
   "execution_count": 105,
   "metadata": {
    "ExecuteTime": {
     "end_time": "2021-03-22T00:17:08.766082Z",
     "start_time": "2021-03-22T00:17:08.728445Z"
    }
   },
   "outputs": [
    {
     "name": "stdout",
     "output_type": "stream",
     "text": [
      "--Update Item in Tuple duration with  1000  items: 0.0006539821624755859 seconds\n",
      "--Update Item in Tuple duration with  10000  items: 0.003010988235473633 seconds\n",
      "--Update Item in Tuple duration with  100000  items: 0.02369093894958496 seconds\n"
     ]
    }
   ],
   "source": [
    "def updateTuple(original, random):\n",
    "    start = time.time()\n",
    "    listFromTuple = list(original)\n",
    "    for item in random:\n",
    "        if item in original:\n",
    "            index = listFromTuple.index(item)\n",
    "            listFromTuple[index].status = datetime.datetime.now().strftime(\"%H:%M:%S\") \n",
    "        else: \n",
    "            print(item.name, \" not found\")    \n",
    "    original = tuple(listFromTuple)\n",
    "    end = time.time()\n",
    "    print(\"--Update Item in Tuple duration with \", len(original), \" items:\", end-start, \"seconds\")\n",
    "        \n",
    "updateTuple(tuple1k, random1k)\n",
    "updateTuple(tuple10k, random10k)\n",
    "updateTuple(tuple100k, random100k)"
   ]
  },
  {
   "cell_type": "markdown",
   "metadata": {},
   "source": [
    "## Remove Items"
   ]
  },
  {
   "cell_type": "code",
   "execution_count": 106,
   "metadata": {
    "ExecuteTime": {
     "end_time": "2021-03-22T00:17:18.610177Z",
     "start_time": "2021-03-22T00:17:18.577062Z"
    }
   },
   "outputs": [
    {
     "name": "stdout",
     "output_type": "stream",
     "text": [
      "--Modify Item in Tuple duration with  990  items: 0.00026702880859375 seconds\n",
      "--Modify Item in Tuple duration with  9990  items: 0.0026907920837402344 seconds\n",
      "--Modify Item in Tuple duration with  99990  items: 0.02292609214782715 seconds\n"
     ]
    }
   ],
   "source": [
    "def removeTuple(original, random):\n",
    "    start = time.time()\n",
    "    listFromTuple = list(original)\n",
    "    for item in random:\n",
    "        if item in listFromTuple:\n",
    "            listFromTuple.remove(item)\n",
    "        else: \n",
    "            print(item.name, \" not found\")    \n",
    "    original = tuple(listFromTuple)\n",
    "    end = time.time()\n",
    "    print(\"--Modify Item in Tuple duration with \", len(original), \" items:\", end-start, \"seconds\")\n",
    "    return original\n",
    "        \n",
    "tuple1k= removeTuple(tuple1k, random1k)\n",
    "tuple10k= removeTuple(tuple10k, random10k)\n",
    "tuple100k= removeTuple(tuple100k, random100k)"
   ]
  },
  {
   "cell_type": "markdown",
   "metadata": {},
   "source": [
    "# Sets\n",
    "## Create"
   ]
  },
  {
   "cell_type": "code",
   "execution_count": 107,
   "metadata": {
    "ExecuteTime": {
     "end_time": "2021-03-22T00:17:27.930545Z",
     "start_time": "2021-03-22T00:17:27.267201Z"
    }
   },
   "outputs": [
    {
     "name": "stdout",
     "output_type": "stream",
     "text": [
      "Create Set Duration with  1000  items: 0.008210897445678711 seconds\n",
      "Create Set Duration with  10000  items: 0.06510519981384277 seconds\n",
      "Create Set Duration with  100000  items: 0.5829081535339355 seconds\n"
     ]
    }
   ],
   "source": [
    "def createSet(amount):\n",
    "    start = time.time()\n",
    "    newList = DataGenerator.generateData(amount,[])\n",
    "    newSet=set(newList)\n",
    "    end = time.time()\n",
    "    print(\"Create Set Duration with \", len(newList), \" items:\", end-start, \"seconds\")\n",
    "    return newSet    \n",
    "\n",
    "set1k=createSet(1000)\n",
    "set10k=createSet(10000)\n",
    "set100k=createSet(100000)"
   ]
  },
  {
   "cell_type": "markdown",
   "metadata": {
    "ExecuteTime": {
     "end_time": "2021-03-21T01:15:40.008717Z",
     "start_time": "2021-03-21T01:15:40.005362Z"
    }
   },
   "source": [
    "## Random Set"
   ]
  },
  {
   "cell_type": "code",
   "execution_count": 108,
   "metadata": {
    "ExecuteTime": {
     "end_time": "2021-03-22T00:17:33.978732Z",
     "start_time": "2021-03-22T00:17:33.939922Z"
    }
   },
   "outputs": [
    {
     "name": "stdout",
     "output_type": "stream",
     "text": [
      "Random elements from Set with  1000  elements\n",
      "Random elements from Set with  10000  elements\n",
      "Random elements from Set with  100000  elements\n"
     ]
    }
   ],
   "source": [
    "import random \n",
    "\n",
    "def createRandomSet(amount, original):\n",
    "    randomList=[]\n",
    "    print (\"Random elements from Set with \", len(original), \" elements\" )\n",
    "    for i in range(amount):\n",
    "        randomList.append(random.choice(tuple(original))) #random.choice(tuple(myset)), because it's faster and arguably cleaner looking \n",
    "    return randomList\n",
    "        \n",
    "random1k=createRandomSet(10, set1k)\n",
    "random10k=createRandomSet(10, set10k)\n",
    "random100k=createRandomSet(10, set100k)"
   ]
  },
  {
   "cell_type": "markdown",
   "metadata": {},
   "source": [
    "## Search Set"
   ]
  },
  {
   "cell_type": "code",
   "execution_count": 109,
   "metadata": {
    "ExecuteTime": {
     "end_time": "2021-03-22T00:17:52.963255Z",
     "start_time": "2021-03-22T00:17:52.957324Z"
    }
   },
   "outputs": [
    {
     "name": "stdout",
     "output_type": "stream",
     "text": [
      "Search Item in Set duration with  1000  items: 3.0994415283203125e-06 seconds\n",
      "Search Item in Set duration with  10000  items: 3.0994415283203125e-06 seconds\n",
      "Search Item in Set duration with  100000  items: 4.76837158203125e-06 seconds\n"
     ]
    }
   ],
   "source": [
    "def searchInSet(original, random):\n",
    "    start = time.time()\n",
    "    for item in random: \n",
    "        if item in original:\n",
    "             #print(item, \"found\")\n",
    "            pass\n",
    "        else: \n",
    "            print(item.name, \" not found\")    \n",
    "    end = time.time()\n",
    "    print(\"Search Item in Set duration with \", len(original), \" items:\", end-start, \"seconds\")\n",
    "searchInSet(set1k,random1k)\n",
    "searchInSet(set10k, random10k)\n",
    "searchInSet(set100k, random100k)"
   ]
  },
  {
   "cell_type": "markdown",
   "metadata": {
    "ExecuteTime": {
     "end_time": "2021-03-21T01:35:17.905686Z",
     "start_time": "2021-03-21T01:35:17.900215Z"
    }
   },
   "source": [
    "## Modify Set"
   ]
  },
  {
   "cell_type": "code",
   "execution_count": 110,
   "metadata": {
    "ExecuteTime": {
     "end_time": "2021-03-22T00:18:03.577122Z",
     "start_time": "2021-03-22T00:18:03.511871Z"
    }
   },
   "outputs": [
    {
     "name": "stdout",
     "output_type": "stream",
     "text": [
      "Update Item in Set duration with  1000  items: 0.00040793418884277344 seconds\n",
      "Update Item in Set duration with  10000  items: 0.002933979034423828 seconds\n",
      "Update Item in Set duration with  100000  items: 0.052655935287475586 seconds\n"
     ]
    }
   ],
   "source": [
    "def updateSet(original, random):\n",
    "    start = time.time()\n",
    "    myList = list(original)\n",
    "    for item in random:\n",
    "        if item in myList:\n",
    "            index = myList.index(item)\n",
    "            myList[index].status = datetime.datetime.now().strftime(\"%H:%M:%S\") \n",
    "        else: \n",
    "            print(item.name, \" not found\")    \n",
    "    original = set(myList)\n",
    "    end = time.time()\n",
    "    print(\"Update Item in Set duration with \", len(original), \" items:\", end-start, \"seconds\")\n",
    "        \n",
    "updateSet(set1k, random1k)\n",
    "updateSet(set10k, random10k)\n",
    "updateSet(set100k, random100k)"
   ]
  },
  {
   "cell_type": "markdown",
   "metadata": {},
   "source": [
    "## Remove Set Items"
   ]
  },
  {
   "cell_type": "code",
   "execution_count": 111,
   "metadata": {
    "ExecuteTime": {
     "end_time": "2021-03-22T00:18:26.611478Z",
     "start_time": "2021-03-22T00:18:26.606491Z"
    }
   },
   "outputs": [
    {
     "name": "stdout",
     "output_type": "stream",
     "text": [
      "Delete Item in Set duration with  990  items: 3.814697265625e-06 seconds\n",
      "Delete Item in Set duration with  9990  items: 3.814697265625e-06 seconds\n",
      "Delete Item in Set duration with  99990  items: 1.4066696166992188e-05 seconds\n"
     ]
    }
   ],
   "source": [
    "def removeSet(original, random):\n",
    "    start = time.time()\n",
    "    for item in random:\n",
    "        if item in original:\n",
    "            original.remove(item)\n",
    "        else: \n",
    "            print(item.name, \" not found\")    \n",
    "    end = time.time()\n",
    "    print(\"Delete Item in Set duration with \", len(original), \" items:\", end-start, \"seconds\")\n",
    "\n",
    "        \n",
    "removeSet(set1k, random1k)\n",
    "removeSet(set10k, random10k)\n",
    "removeSet(set100k, random100k)"
   ]
  },
  {
   "cell_type": "markdown",
   "metadata": {
    "ExecuteTime": {
     "end_time": "2021-03-21T01:45:08.615537Z",
     "start_time": "2021-03-21T01:45:08.611267Z"
    }
   },
   "source": [
    "# Dictionaries"
   ]
  },
  {
   "cell_type": "markdown",
   "metadata": {},
   "source": [
    "## Create "
   ]
  },
  {
   "cell_type": "code",
   "execution_count": 112,
   "metadata": {
    "ExecuteTime": {
     "end_time": "2021-03-22T00:18:37.945483Z",
     "start_time": "2021-03-22T00:18:36.964836Z"
    }
   },
   "outputs": [
    {
     "name": "stdout",
     "output_type": "stream",
     "text": [
      "Create Dictionary Duration with  1000  items: 0.008900880813598633 seconds\n",
      "Create Dictionary Duration with  10000  items: 0.06323480606079102 seconds\n",
      "Create Dictionary Duration with  100000  items: 0.879953145980835 seconds\n"
     ]
    }
   ],
   "source": [
    "import time \n",
    "def createDictionary(amount):\n",
    "    start = time.time()\n",
    "    newList = DataGenerator.generateData(amount,[])\n",
    "    dictionary = {item.id: item for item in newList}\n",
    "    end = time.time()\n",
    "    print(\"Create Dictionary Duration with \", len(newList), \" items:\", end-start, \"seconds\")\n",
    "    return dictionary    \n",
    "\n",
    "dict1k=createDictionary(1000)\n",
    "dict10k=createDictionary(10000)\n",
    "dict100k=createDictionary(100000)"
   ]
  },
  {
   "cell_type": "markdown",
   "metadata": {
    "ExecuteTime": {
     "end_time": "2021-03-21T22:40:13.966830Z",
     "start_time": "2021-03-21T22:40:13.464905Z"
    }
   },
   "source": [
    "## Random "
   ]
  },
  {
   "cell_type": "code",
   "execution_count": 113,
   "metadata": {
    "ExecuteTime": {
     "end_time": "2021-03-22T00:18:42.486224Z",
     "start_time": "2021-03-22T00:18:42.479860Z"
    }
   },
   "outputs": [
    {
     "name": "stdout",
     "output_type": "stream",
     "text": [
      "Random elements from Dict with  1000  elements\n",
      "Random elements from Dict with  10000  elements\n",
      "Random elements from Dict with  100000  elements\n"
     ]
    }
   ],
   "source": [
    "import random \n",
    "\n",
    "def createRandomDic(amount, original):\n",
    "    randomDic={}\n",
    "    print (\"Random elements from Dict with \", len(original), \" elements\" )\n",
    "    for i in range(amount):\n",
    "        key=random.randint(0, len(original)-1)\n",
    "        randomDic[key]=original[key]\n",
    "    return randomDic\n",
    "        \n",
    "random1k=createRandomDic(10, dict1k)\n",
    "random10k=createRandomDic(10, dict10k)\n",
    "random100k=createRandomDic(10, dict100k)"
   ]
  },
  {
   "cell_type": "markdown",
   "metadata": {
    "ExecuteTime": {
     "end_time": "2021-03-21T22:55:54.280391Z",
     "start_time": "2021-03-21T22:55:54.275063Z"
    }
   },
   "source": [
    "## Search"
   ]
  },
  {
   "cell_type": "code",
   "execution_count": 114,
   "metadata": {
    "ExecuteTime": {
     "end_time": "2021-03-22T00:18:57.927788Z",
     "start_time": "2021-03-22T00:18:57.921713Z"
    }
   },
   "outputs": [
    {
     "name": "stdout",
     "output_type": "stream",
     "text": [
      "Search Item in Dict duration with  1000  items: 5.0067901611328125e-06 seconds\n",
      "Search Item in Dict duration with  10000  items: 6.198883056640625e-06 seconds\n",
      "Search Item in Dict duration with  100000  items: 6.9141387939453125e-06 seconds\n"
     ]
    }
   ],
   "source": [
    "def searchInDict(original, random):\n",
    "    start = time.time()\n",
    "    keys= random.keys()\n",
    "    for key in keys: \n",
    "        if key in original:\n",
    "             #print(key, \"found\")\n",
    "            pass\n",
    "        else: \n",
    "            print(key, \" not found\")    \n",
    "    end = time.time()\n",
    "    print(\"Search Item in Dict duration with \", len(original), \" items:\", end-start, \"seconds\")\n",
    "searchInDict(dict1k,random1k)\n",
    "searchInDict(dict10k, random10k)\n",
    "searchInDict(dict100k, random100k)"
   ]
  },
  {
   "cell_type": "raw",
   "metadata": {
    "ExecuteTime": {
     "end_time": "2021-03-21T23:03:33.932837Z",
     "start_time": "2021-03-21T23:03:33.928059Z"
    }
   },
   "source": [
    "for x in random1k:\n",
    "    print(dict1k[30])"
   ]
  },
  {
   "cell_type": "markdown",
   "metadata": {},
   "source": [
    "## Update "
   ]
  },
  {
   "cell_type": "code",
   "execution_count": 115,
   "metadata": {
    "ExecuteTime": {
     "end_time": "2021-03-22T00:19:21.012989Z",
     "start_time": "2021-03-22T00:19:21.006456Z"
    }
   },
   "outputs": [
    {
     "name": "stdout",
     "output_type": "stream",
     "text": [
      "Update Item in Dict duration with  1000  items: 0.00011301040649414062 seconds\n",
      "Update Item in Dict duration with  10000  items: 8.082389831542969e-05 seconds\n",
      "Update Item in Dict duration with  100000  items: 7.009506225585938e-05 seconds\n"
     ]
    }
   ],
   "source": [
    "def updateDict(original, random):\n",
    "    start = time.time()\n",
    "    keys= random.keys()\n",
    "    for key in keys: \n",
    "        if key in original:\n",
    "             original[key].status = datetime.datetime.now().strftime(\"%H:%M:%S\") \n",
    "        else: \n",
    "            print(key, \" not found\")    \n",
    "    end = time.time()\n",
    "    print(\"Update Item in Dict duration with \", len(original), \" items:\", end-start, \"seconds\")\n",
    "        \n",
    "updateDict(dict1k, random1k)\n",
    "updateDict(dict10k, random10k)\n",
    "updateDict(dict100k, random100k)"
   ]
  },
  {
   "cell_type": "code",
   "execution_count": 63,
   "metadata": {
    "ExecuteTime": {
     "end_time": "2021-03-21T23:40:26.514421Z",
     "start_time": "2021-03-21T23:40:26.511611Z"
    }
   },
   "outputs": [
    {
     "name": "stdout",
     "output_type": "stream",
     "text": [
      "16:40:10\n"
     ]
    }
   ],
   "source": [
    "print(dict1k[104].status)\n"
   ]
  },
  {
   "cell_type": "markdown",
   "metadata": {},
   "source": [
    "## Remove "
   ]
  },
  {
   "cell_type": "code",
   "execution_count": 116,
   "metadata": {
    "ExecuteTime": {
     "end_time": "2021-03-22T00:19:36.729591Z",
     "start_time": "2021-03-22T00:19:36.723505Z"
    }
   },
   "outputs": [
    {
     "name": "stdout",
     "output_type": "stream",
     "text": [
      "Delete Item in Dict duration with  990  items: 6.9141387939453125e-06 seconds\n",
      "Delete Item in Dict duration with  9990  items: 7.867813110351562e-06 seconds\n",
      "Delete Item in Dict duration with  99990  items: 9.059906005859375e-06 seconds\n"
     ]
    }
   ],
   "source": [
    "def deleteDict(original, random):\n",
    "    start = time.time()\n",
    "    keys= random.keys()\n",
    "    for key in keys: \n",
    "        if key in original:\n",
    "            del original[key]\n",
    "        else: \n",
    "            print(key, \" not found\")    \n",
    "    end = time.time()\n",
    "    print(\"Delete Item in Dict duration with \", len(original), \" items:\", end-start, \"seconds\")\n",
    "        \n",
    "deleteDict(dict1k, random1k)\n",
    "deleteDict(dict10k, random10k)\n",
    "deleteDict(dict100k, random100k)"
   ]
  },
  {
   "cell_type": "code",
   "execution_count": null,
   "metadata": {},
   "outputs": [],
   "source": []
  }
 ],
 "metadata": {
  "kernelspec": {
   "display_name": "Python 3",
   "language": "python",
   "name": "python3"
  },
  "language_info": {
   "codemirror_mode": {
    "name": "ipython",
    "version": 3
   },
   "file_extension": ".py",
   "mimetype": "text/x-python",
   "name": "python",
   "nbconvert_exporter": "python",
   "pygments_lexer": "ipython3",
   "version": "3.7.4"
  },
  "nbTranslate": {
   "displayLangs": [
    "en",
    "es"
   ],
   "hotkey": "alt-t",
   "langInMainMenu": true,
   "sourceLang": "es",
   "targetLang": "en",
   "useGoogleTranslate": true
  },
  "toc": {
   "base_numbering": 1,
   "nav_menu": {},
   "number_sections": true,
   "sideBar": true,
   "skip_h1_title": false,
   "title_cell": "Table of Contents",
   "title_sidebar": "Contents",
   "toc_cell": false,
   "toc_position": {
    "height": "calc(100% - 180px)",
    "left": "10px",
    "top": "150px",
    "width": "250.43478393554688px"
   },
   "toc_section_display": true,
   "toc_window_display": true
  }
 },
 "nbformat": 4,
 "nbformat_minor": 4
}
