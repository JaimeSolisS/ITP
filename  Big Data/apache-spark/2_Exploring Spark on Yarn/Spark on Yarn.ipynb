{
 "cells": [
  {
   "cell_type": "markdown",
   "metadata": {},
   "source": [
    "# Spark on Yarn \n",
    "\n",
    "Yarb is the cluster management component of Hadoop. It manages memory and CPU cores/instances.  \n",
    "- Specify YARN as the master when running `spark-shell` , along with executor amount and memory size for each executor:  \n",
    "`spark-shell --master yarn --deploy-mode client --num-executors 4 --executor-memory 4GB` \n",
    "\n",
    "- Check aplication Id:  \n",
    "`sc.applicationId`\n",
    "\n",
    "- Spark application can be explore in application UI (default at http://localhost:4040)\n",
    "\n",
    "- In application master, the application status can be tracked (Jobs, Stages, tasks, Storage, Environment, Executors, SQL)  \n",
    "\n",
    "- Each execution in the spark shell is reflected in application UI"
   ]
  }
 ],
 "metadata": {
  "kernelspec": {
   "display_name": "Python 3",
   "language": "python",
   "name": "python3"
  },
  "language_info": {
   "codemirror_mode": {
    "name": "ipython",
    "version": 3
   },
   "file_extension": ".py",
   "mimetype": "text/x-python",
   "name": "python",
   "nbconvert_exporter": "python",
   "pygments_lexer": "ipython3",
   "version": "3.7.4"
  },
  "nbTranslate": {
   "displayLangs": [
    "en",
    "es"
   ],
   "hotkey": "alt-t",
   "langInMainMenu": true,
   "sourceLang": "es",
   "targetLang": "en",
   "useGoogleTranslate": true
  },
  "toc": {
   "base_numbering": 1,
   "nav_menu": {},
   "number_sections": true,
   "sideBar": true,
   "skip_h1_title": false,
   "title_cell": "Table of Contents",
   "title_sidebar": "Contents",
   "toc_cell": false,
   "toc_position": {},
   "toc_section_display": true,
   "toc_window_display": false
  }
 },
 "nbformat": 4,
 "nbformat_minor": 4
}
