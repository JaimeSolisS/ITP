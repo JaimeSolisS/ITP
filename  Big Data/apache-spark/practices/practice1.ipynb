﻿{
  "metadata": {
    "name": "practice1",
    "kernelspec": {
      "language": "scala",
      "name": "spark2-scala"
    },
    "language_info": {
      "codemirror_mode": "text/x-scala",
      "file_extension": ".scala",
      "mimetype": "text/x-scala",
      "name": "scala",
      "pygments_lexer": "scala"
    }
  },
  "nbformat": 4,
  "nbformat_minor": 2,
  "cells": [
    {
      "cell_type": "markdown",
      "metadata": {},
      "source": "# login into the cluster \n\n- Connect to edgenode: ``ssh jsolis@10.1.1.27``\n- set ``HADOOP_CONF_DIR\u003d%HADOOP_HOME%``\n\nstart spark with master yarn \n```\nspark-shell --master yarn --deploy-mode client --num-executors 2 --executor-memory 1GB\n\nspark2-shell --master yarn --deploy-mode client --num-executors 4 --executor-memory 4GB\n```\n\nSee en the portal the aapication running\nhttps://ybolcldrmstr.yotabites.com:8090/cluster/apps/RUNNING\n\n\ncreate a temp table loading a file from home directory \n\n```spark.read.json(\"/data/mexzipcodes.json\").createOrReplaceTempView(\"events\")\n\nspark.read.json(\"hdfs://yboledge02.yotabites.com:8020/home/egarcia1/data/mexzipcodes.json\").createOrReplaceTempView(\"events\")\nspark.read.json(\"/user/egarcia1/data/mexzipcodes.json\").registerTempTable(\"events\")\nspark.sql(\"select * from events\").show\n```\n\nExplore all the options of the appliation master \n\n"
    }
  ]
}